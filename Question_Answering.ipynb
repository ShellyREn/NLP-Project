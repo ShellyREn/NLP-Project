{
 "cells": [
  {
   "cell_type": "markdown",
   "id": "challenging-original",
   "metadata": {},
   "source": [
    "# Question Answering"
   ]
  },
  {
   "cell_type": "code",
   "execution_count": 70,
   "id": "annoying-domain",
   "metadata": {},
   "outputs": [],
   "source": [
    "import nltk\n",
    "from nltk.tokenize import sent_tokenize\n",
    "import spacy\n",
    "from nltk.stem import WordNetLemmatizer \n",
    "from sklearn.metrics.pairwise import cosine_similarity\n",
    "import numpy as np\n",
    "from nltk.corpus import wordnet\n",
    "from nltk.corpus import stopwords\n"
   ]
  },
  {
   "cell_type": "markdown",
   "id": "knowing-rubber",
   "metadata": {},
   "source": [
    "## Tools to Use"
   ]
  },
  {
   "cell_type": "code",
   "execution_count": 72,
   "id": "gross-connectivity",
   "metadata": {},
   "outputs": [
    {
     "name": "stdout",
     "output_type": "stream",
     "text": [
      "['i', 'me', 'my', 'myself', 'we', 'our', 'ours', 'ourselves', 'you', \"you're\", \"you've\", \"you'll\", \"you'd\", 'your', 'yours', 'yourself', 'yourselves', 'he', 'him', 'his', 'himself', 'she', \"she's\", 'her', 'hers', 'herself', 'it', \"it's\", 'its', 'itself', 'they', 'them', 'their', 'theirs', 'themselves', 'what', 'which', 'who', 'whom', 'this', 'that', \"that'll\", 'these', 'those', 'am', 'is', 'are', 'was', 'were', 'be', 'been', 'being', 'have', 'has', 'had', 'having', 'do', 'does', 'did', 'doing', 'a', 'an', 'the', 'and', 'but', 'if', 'or', 'because', 'as', 'until', 'while', 'of', 'at', 'by', 'for', 'with', 'about', 'against', 'between', 'into', 'through', 'during', 'before', 'after', 'above', 'below', 'to', 'from', 'up', 'down', 'in', 'out', 'on', 'off', 'over', 'under', 'again', 'further', 'then', 'once', 'here', 'there', 'when', 'where', 'why', 'how', 'all', 'any', 'both', 'each', 'few', 'more', 'most', 'other', 'some', 'such', 'no', 'nor', 'not', 'only', 'own', 'same', 'so', 'than', 'too', 'very', 's', 't', 'can', 'will', 'just', 'don', \"don't\", 'should', \"should've\", 'now', 'd', 'll', 'm', 'o', 're', 've', 'y', 'ain', 'aren', \"aren't\", 'couldn', \"couldn't\", 'didn', \"didn't\", 'doesn', \"doesn't\", 'hadn', \"hadn't\", 'hasn', \"hasn't\", 'haven', \"haven't\", 'isn', \"isn't\", 'ma', 'mightn', \"mightn't\", 'mustn', \"mustn't\", 'needn', \"needn't\", 'shan', \"shan't\", 'shouldn', \"shouldn't\", 'wasn', \"wasn't\", 'weren', \"weren't\", 'won', \"won't\", 'wouldn', \"wouldn't\"]\n"
     ]
    }
   ],
   "source": [
    "nlp = spacy.load('en_core_web_sm')\n",
    "lemmatizer = WordNetLemmatizer()\n",
    "sw_nltk = stopwords.words('english')\n",
    "print(sw_nltk)"
   ]
  },
  {
   "cell_type": "code",
   "execution_count": 5,
   "id": "saving-merit",
   "metadata": {},
   "outputs": [],
   "source": [
    "def get_text(textfile):\n",
    "    #put entire text file into a list of sentences\n",
    "    text = []\n",
    "    with open(textfile, \"r\") as f:\n",
    "        for line in f:\n",
    "            line = line.split('. ')\n",
    "            if len(line) != 0:\n",
    "                temp = line[0].strip('\\n')\n",
    "                if len(temp) != 0:\n",
    "                    text.append(temp)\n",
    "    return text"
   ]
  },
  {
   "cell_type": "code",
   "execution_count": 6,
   "id": "funny-digest",
   "metadata": {},
   "outputs": [],
   "source": [
    "textfile1 = \"data/set4/a1.txt\"\n",
    "textfile2 = \"data/set4/a7.txt\""
   ]
  },
  {
   "cell_type": "code",
   "execution_count": 7,
   "id": "raising-lunch",
   "metadata": {},
   "outputs": [],
   "source": [
    "text_artist, text_hp = get_text(textfile1), get_text(textfile2)"
   ]
  },
  {
   "cell_type": "code",
   "execution_count": 9,
   "id": "nuclear-funds",
   "metadata": {},
   "outputs": [],
   "source": [
    "def pos_tag_sentence(sentence):\n",
    "    #list of sentences\n",
    "    POS_tag_dict = dict()\n",
    "    text = sentence.split()\n",
    "    for line in text:\n",
    "        tags = []\n",
    "        doc = nlp(str(line))\n",
    "        for token in doc:\n",
    "            tags.append((token.pos_, token.tag_, token.dep_, token.is_stop, ))\n",
    "        if len(tags) != 0:\n",
    "            POS_tag_dict[token.text] = tags[0]\n",
    "    return POS_tag_dict"
   ]
  },
  {
   "cell_type": "code",
   "execution_count": 10,
   "id": "streaming-perception",
   "metadata": {},
   "outputs": [],
   "source": [
    "#denpendency dict \n",
    "def dependency_dict(doc):\n",
    "    out = dict()\n",
    "    root = ''\n",
    "    for token in doc:\n",
    "        out[token.text] = (token.dep_, token.head.text, token.head.pos_,[child for child in token.children])\n",
    "        if token.dep_ == \"ROOT\":\n",
    "            root = token.text\n",
    "    return out, root"
   ]
  },
  {
   "cell_type": "code",
   "execution_count": 11,
   "id": "funded-consent",
   "metadata": {},
   "outputs": [],
   "source": [
    "def ner_tag_sentence(sentence):\n",
    "    doc = nlp(str(sentence))\n",
    "    NER_tag_dict = dict()\n",
    "    tags = []\n",
    "    for ent in doc.ents:\n",
    "        # print(ent.text +'-' + ent.label_ + '\\n')\n",
    "        NER_tag_dict[ent.text] = ent.label_\n",
    "    return NER_tag_dict"
   ]
  },
  {
   "cell_type": "markdown",
   "id": "blank-dodge",
   "metadata": {},
   "source": [
    "# Questions"
   ]
  },
  {
   "cell_type": "code",
   "execution_count": 12,
   "id": "cardiac-voice",
   "metadata": {},
   "outputs": [],
   "source": [
    "#Bert sentence embedding\n",
    "from sentence_transformers import SentenceTransformer\n",
    "sbert_model = SentenceTransformer('bert-base-nli-mean-tokens')"
   ]
  },
  {
   "cell_type": "code",
   "execution_count": 13,
   "id": "express-bennett",
   "metadata": {},
   "outputs": [],
   "source": [
    "question1 = \"How much did the film take?\"\n",
    "question2 = 'Is Harry Potter and the Prisoner of Azkaban a 2004 fantasy film directed by Alfonso Cuarón and distributed by Warner Bros?'\n",
    "\n",
    "question1_emb = np.array(sbert_model.encode(question1)).reshape(1, -1)\n",
    "question2_emb = np.array(sbert_model.encode(question2)).reshape(1, -1)\n"
   ]
  },
  {
   "cell_type": "code",
   "execution_count": 14,
   "id": "moving-cooperative",
   "metadata": {},
   "outputs": [
    {
     "data": {
      "text/plain": [
       "326"
      ]
     },
     "execution_count": 14,
     "metadata": {},
     "output_type": "execute_result"
    }
   ],
   "source": [
    "#stop words (?), contains cardinal numbers\n",
    "all_stopwords = nlp.Defaults.stop_words\n",
    "len(all_stopwords)"
   ]
  },
  {
   "cell_type": "markdown",
   "id": "rough-luxembourg",
   "metadata": {},
   "source": [
    "## Turn the entire text into sentence embeddings"
   ]
  },
  {
   "cell_type": "code",
   "execution_count": 15,
   "id": "retired-burton",
   "metadata": {},
   "outputs": [],
   "source": [
    "#input: text file \n",
    "#output: a dictionary of sentence embeddings {sentence: sentence embeddings}\n",
    "\n",
    "def sentence_emb(text):\n",
    "    result = dict()\n",
    "    for sentence in text:\n",
    "        sentence_emb = np.array(sbert_model.encode(sentence)).reshape(1, -1)\n",
    "        result[sentence] = sentence_emb\n",
    "    return result"
   ]
  },
  {
   "cell_type": "code",
   "execution_count": 16,
   "id": "passing-credits",
   "metadata": {},
   "outputs": [],
   "source": [
    "text_artist_emb, text_hp_emb = sentence_emb(text_artist), sentence_emb(text_hp)\n"
   ]
  },
  {
   "cell_type": "markdown",
   "id": "blond-forty",
   "metadata": {},
   "source": [
    "# Identify the original sentence"
   ]
  },
  {
   "cell_type": "code",
   "execution_count": 17,
   "id": "earlier-characterization",
   "metadata": {},
   "outputs": [],
   "source": [
    "#input: question, text embedding dict\n",
    "def find_best_sentence(question, text_emb_dict):\n",
    "    question_emb = np.array(sbert_model.encode(question)).reshape(1, -1)\n",
    "    sim_max = 0\n",
    "    output = \"\"\n",
    "    for sentence, sentence_emb in text_emb_dict.items():\n",
    "        sim = cosine_similarity(sentence_emb, question_emb)\n",
    "        if sim > sim_max:\n",
    "            sim_max = sim\n",
    "            output = sentence\n",
    "    return output, sim_max"
   ]
  },
  {
   "cell_type": "code",
   "execution_count": 21,
   "id": "unlikely-while",
   "metadata": {},
   "outputs": [],
   "source": [
    "#Check Question type\n",
    "question_types = [\"Who\", \"When\", \"What\" , \"Where\",\" How many\", \"How long\", \"How much\", \"Why\"]\n",
    "auxiliary_verbs = [\"am\", \"is\", \"are\", \"was\", \"were\", \"shall\", \"do\", \"does\", \"did\",\"can\", \"could\", \"have\", \"need\", \"should\", \"will\", \"would\"]\n",
    "\n",
    "\n"
   ]
  },
  {
   "cell_type": "code",
   "execution_count": 19,
   "id": "lesser-membership",
   "metadata": {},
   "outputs": [],
   "source": [
    "def check_question_type(question):\n",
    "    #Check Question type\n",
    "    for q_type in question_types:\n",
    "        if question.startswith(q_type):\n",
    "            return q_type\n",
    "    for a_verb in auxiliary_verbs:\n",
    "        a_verb = a_verb[0].upper() + a_verb[1:]\n",
    "        if question.startswith(a_verb):\n",
    "            return a_verb\n",
    "    return \"No idea\"\n",
    "    "
   ]
  },
  {
   "cell_type": "code",
   "execution_count": 22,
   "id": "beautiful-spouse",
   "metadata": {},
   "outputs": [
    {
     "data": {
      "text/plain": [
       "('Is', 'How much')"
      ]
     },
     "execution_count": 22,
     "metadata": {},
     "output_type": "execute_result"
    }
   ],
   "source": [
    "check_question_type(question2), check_question_type(question1)"
   ]
  },
  {
   "cell_type": "code",
   "execution_count": 35,
   "id": "mediterranean-blink",
   "metadata": {},
   "outputs": [
    {
     "data": {
      "text/plain": [
       "({'ten': 'CARDINAL',\n",
       "  'Academy Awards': 'ORG',\n",
       "  'five': 'CARDINAL',\n",
       "  'Best Picture for Langmann': 'ORG',\n",
       "  'Hazanavicius': 'ORG',\n",
       "  'Dujardin': 'PERSON',\n",
       "  'first': 'ORDINAL',\n",
       "  'French': 'NORP'},\n",
       " 'It was nominated for ten Academy Awards and won five, including Best Picture for Langmann, Best Director for Hazanavicius, and Best Actor for Dujardin, making him the first French actor ever to win for Best Actor')"
      ]
     },
     "execution_count": 35,
     "metadata": {},
     "output_type": "execute_result"
    }
   ],
   "source": [
    "ner_tag_sentence(text_artist[3]), text_artist[3]\n"
   ]
  },
  {
   "cell_type": "code",
   "execution_count": 59,
   "id": "olympic-express",
   "metadata": {},
   "outputs": [],
   "source": [
    "#find sentence with question type as an argument\n",
    "def find_best_k_sentence(question, text_emb_dict, k):\n",
    "    question_type = check_question_type(question)\n",
    "    question_emb = np.array(sbert_model.encode(question)).reshape(1, -1)\n",
    "    sims_dict = dict()\n",
    "    output = \"\"\n",
    "    for sentence, sentence_emb in text_emb_dict.items():\n",
    "        sim = cosine_similarity(sentence_emb, question_emb)\n",
    "        #if question type and NER matches, +1\n",
    "        if check_NER(sentence, question_type):\n",
    "            sim += 1\n",
    "        #check extra matching bonus\n",
    "        extra = NER_match(question, sentence)\n",
    "        print(extra, sentence)\n",
    "        sims_dict[sentence] = sim + extra\n",
    "    sorted_sim = sorted(sims_dict.items(), key = lambda kv: kv[1])[::-1][:k]\n",
    "    return sorted_sim"
   ]
  },
  {
   "cell_type": "code",
   "execution_count": 74,
   "id": "plastic-danish",
   "metadata": {},
   "outputs": [],
   "source": [
    "#find same NER keys \n",
    "#find same words after getting rid of stopwords\n",
    "def NER_match(question, sentence):\n",
    "    output = 0\n",
    "    question_ner = ner_tag_sentence(question)\n",
    "    sentence_ner = ner_tag_sentence(sentence)\n",
    "    #find same NER key and add 0.2 for each\n",
    "    for key in question_ner.keys():\n",
    "        print(key)\n",
    "        all_keys = [key.lower() for key in sentence_ner.keys()]\n",
    "        if key.lower() in all_keys:\n",
    "            output += 0.2\n",
    "    #find same words and plus 0.1 for each\n",
    "    q_words = [word for word in question.split() if word.lower() not in sw_nltk]\n",
    "    s_words = [word for word in sentence.split() if word.lower() not in sw_nltk]\n",
    "    for word in q_words:\n",
    "        if word in s_words:\n",
    "            output += 0.1\n",
    "    return output"
   ]
  },
  {
   "cell_type": "code",
   "execution_count": 65,
   "id": "eligible-freight",
   "metadata": {},
   "outputs": [],
   "source": [
    "#check if the sentence contains certain NER tags\n",
    "#When - DATE\n",
    "#Who - PERSON\n",
    "#Where\" - FAC, ORG, ORG, ORG\n",
    "#\"How many\" - CARDINAL\n",
    "#\"How long\" - DATE\n",
    "#\"How much\" - MONEY\n",
    "#\"Why\" - \"because\"\n",
    "\n",
    "def check_NER(sentence, question_type):\n",
    "    output = False\n",
    "    ner_tag_dict = ner_tag_sentence(sentence)\n",
    "    if question_type == \"When\":\n",
    "        if (\"TIME\" in ner_tag_dict.values()) or (\"DATE\" in ner_tag_dict.values()):\n",
    "            output = True\n",
    "    elif question_type == \"Who\":\n",
    "        if (\"PERSON\" in ner_tag_dict.values()):\n",
    "            output = True\n",
    "    elif question_type == \"Where\":  \n",
    "        if (\"FAC\" in ner_tag_dict.values()) or (\"ORG\" in ner_tag_dict.values()) or (\"ORG\" in ner_tag_dict.values()) or (\"LOC\" in ner_tag_dict.values()):\n",
    "            output = True\n",
    "    elif question_type == \"How much\":\n",
    "        if (\"MONEY\" in ner_tag_dict.values()):\n",
    "            output = True\n",
    "    elif question_type == \"How long\":\n",
    "        if (\"DATE\" in ner_tag_dict.values()):\n",
    "            output = True\n",
    "    elif question_type == \"How many\":\n",
    "        if (\"CARDINAL\" in ner_tag_dict.values()):\n",
    "            output = True\n",
    "    elif question_type == \"How often\":\n",
    "        if (\"CARDINAL\" in ner_tag_dict.values()):\n",
    "            output = True\n",
    "    elif question_type == \"Why\":\n",
    "        if (\"because\" in sentence) or (\"due to\" in sentence) or (\"Due to\" in sentence):\n",
    "            output = True\n",
    "    else:\n",
    "        for aux in auxiliary_verbs:\n",
    "            aux_cap = aux[0].upper() + aux[1:]\n",
    "            if aux or aux_cap in sentence:\n",
    "                output = True\n",
    "    return output"
   ]
  },
  {
   "cell_type": "code",
   "execution_count": 36,
   "id": "expected-recorder",
   "metadata": {},
   "outputs": [
    {
     "data": {
      "text/plain": [
       "True"
      ]
     },
     "execution_count": 36,
     "metadata": {},
     "output_type": "execute_result"
    }
   ],
   "source": [
    "check_NER(text_artist[3], 'How many')"
   ]
  },
  {
   "cell_type": "code",
   "execution_count": 40,
   "id": "relative-stuff",
   "metadata": {},
   "outputs": [
    {
     "data": {
      "text/plain": [
       "('The Artist (film)', array([[0.6446453]], dtype=float32))"
      ]
     },
     "execution_count": 40,
     "metadata": {},
     "output_type": "execute_result"
    }
   ],
   "source": [
    "output1, sim_max1 = find_best_sentence(question1, text_artist_emb)\n",
    "output1, sim_max1"
   ]
  },
  {
   "cell_type": "code",
   "execution_count": 41,
   "id": "korean-potential",
   "metadata": {},
   "outputs": [
    {
     "data": {
      "text/plain": [
       "('Harry Potter and the Prisoner of Azkaban is a 2004 fantasy film directed by Alfonso Cuarón and distributed by Warner Bros',\n",
       " array([[0.9850467]], dtype=float32))"
      ]
     },
     "execution_count": 41,
     "metadata": {},
     "output_type": "execute_result"
    }
   ],
   "source": [
    "output2, sim_max2 = find_best_sentence(question2, text_hp_emb)\n",
    "output2, sim_max2"
   ]
  },
  {
   "cell_type": "code",
   "execution_count": 46,
   "id": "under-japan",
   "metadata": {},
   "outputs": [
    {
     "data": {
      "text/plain": [
       "[('The Artist grossed $44,671,682 in North America, along with $88,761,174 in other territories for a worldwide total of $133,432,856',\n",
       "  array([[1.2797168]], dtype=float32)),\n",
       " ('The Artist (film)', array([[0.6446453]], dtype=float32)),\n",
       " ('In response, director Hazanavicius released a statement:',\n",
       "  array([[0.53274065]], dtype=float32)),\n",
       " ('Box officeEdit', array([[0.51973134]], dtype=float32)),\n",
       " ('ProductionEdit', array([[0.5167222]], dtype=float32)),\n",
       " ('Track listingEdit', array([[0.4924271]], dtype=float32)),\n",
       " ('ReleaseEdit', array([[0.49158168]], dtype=float32)),\n",
       " ('The film was produced by La Petite Reine and ARP Sélection for 13.47 million euro, including co-production support from Studio 37 and France 3 Cinéma, and pre-sales investment from Canal+ and CinéCinéma',\n",
       "  array([[0.47808385]], dtype=float32)),\n",
       " ('Chief among the influences shaping the screenplay’s protagonist was Douglas Fairbanks',\n",
       "  array([[0.4662738]], dtype=float32)),\n",
       " ('AccoladesEdit', array([[0.45877093]], dtype=float32))]"
      ]
     },
     "execution_count": 46,
     "metadata": {},
     "output_type": "execute_result"
    }
   ],
   "source": [
    "find_best_k_sentence(question1, text_artist_emb, 10)"
   ]
  },
  {
   "cell_type": "code",
   "execution_count": 47,
   "id": "official-stock",
   "metadata": {},
   "outputs": [
    {
     "data": {
      "text/plain": [
       "[('Harry Potter and the Prisoner of Azkaban is a 2004 fantasy film directed by Alfonso Cuarón and distributed by Warner Bros',\n",
       "  array([[1.9850466]], dtype=float32)),\n",
       " ('Harry Potter and the Prisoner of Azkaban (film)',\n",
       "  array([[1.7757163]], dtype=float32)),\n",
       " ('The film was released on 31 May 2004 in the United Kingdom and on 4 June 2004 in North America, as the first Harry Potter film released into IMAX theatres and to be using IMAX Technology',\n",
       "  array([[1.7456156]], dtype=float32)),\n",
       " ('Harry Potter and the Prisoner of Azkaban at Box Office Mojo',\n",
       "  array([[1.732152]], dtype=float32)),\n",
       " ('Harry Potter and the Prisoner of Azkaban at AllMovie',\n",
       "  array([[1.7223794]], dtype=float32)),\n",
       " ('Harry Potter and the Prisoner of Azkaban at the Internet Movie Database',\n",
       "  array([[1.7186091]], dtype=float32)),\n",
       " ('Harry Potter and the Prisoner of Azkaban was nominated for Best Original Music Score (John Williams) and Best Visual Effects at the 77th Academy Awards held in 2005',\n",
       "  array([[1.7139666]], dtype=float32)),\n",
       " ('Harry Potter and the Prisoner of Azkaban at Metacritic',\n",
       "  array([[1.6705003]], dtype=float32)),\n",
       " ('The Knight Bus segment when Harry is being taken to The Leaky Cauldron uses the technique known as bullet time, popularised in The Matrix series of films',\n",
       "  array([[1.6598566]], dtype=float32)),\n",
       " (\"Gary Oldman as Sirius Black, an escapee from the Wizarding prison Azkaban and Harry's godfather\",\n",
       "  array([[1.617578]], dtype=float32))]"
      ]
     },
     "execution_count": 47,
     "metadata": {},
     "output_type": "execute_result"
    }
   ],
   "source": [
    "find_best_k_sentence(question2, text_hp_emb, 10)"
   ]
  },
  {
   "cell_type": "markdown",
   "id": "extra-candle",
   "metadata": {},
   "source": [
    "# Binary Answer"
   ]
  },
  {
   "cell_type": "code",
   "execution_count": 49,
   "id": "improved-failure",
   "metadata": {},
   "outputs": [],
   "source": [
    "#Binary Questions\n",
    "#Strip the punctuation at the end\n",
    "#input: question and original sentence in text\n",
    "#check : 1) negation words: no/not/'nt √ \n",
    "#        2) Adjectives -> check antonymn\n",
    "#        3) Check Info matching?\n",
    "\n",
    "def binary_answer(question, sentence):\n",
    "    negate = False\n",
    "    output = \"\"\n",
    "    neg_words = {'no', 'not', \"don't\", \"doesn't\", \"did't\", \"haven't\", \"hasn't\", \"wasn't\", \"weren't\"}\n",
    "    sentence_set = set([x.lower() for x in sentence.split()])\n",
    "    question_set = set([x.lower() for x in question[:-1].split()])\n",
    "    intersect_words = sentence_set.intersection(question_set)\n",
    "    leftover_question = question_set - intersect_words\n",
    "    leftover_sentence = sentence_set - intersect_words\n",
    "    print(\"leftover words: \")\n",
    "    print(leftover_question, leftover_question)\n",
    "    \n",
    "    negate = not check_negate(leftover_question, leftover_question)\n",
    "    if negate:\n",
    "        #No\n",
    "        output += \"No. \" + sentence\n",
    "    else:\n",
    "        #Yes\n",
    "        output += \"Yes. \" + sentence\n",
    "\n",
    "    return output"
   ]
  },
  {
   "cell_type": "code",
   "execution_count": 50,
   "id": "going-orbit",
   "metadata": {},
   "outputs": [],
   "source": [
    "#neg_words = ['no', 'not',\"n't\"]\n",
    "#return true if same\n",
    "def check_negate(set1, set2):\n",
    "    print(\"hi\")\n",
    "    negate1, negate2 = True, True\n",
    "    print(\"Negate\", negate1, negate2)\n",
    "    if len(set1) == 0 and len(set2) == 0:\n",
    "        return negate1 and negate2\n",
    "    for item1 in set1:\n",
    "        if (item1 == 'no') or (item1 == 'not') or (\"n't\" in item1):\n",
    "            negate1 = not negate1\n",
    "#             print(\"1\", item1)\n",
    "\n",
    "    for item2 in set2:\n",
    "        if (item2 == 'no') or (item2 == 'not') or (\"n't\" in item2):\n",
    "            negate2 = not negate2\n",
    "#             print(\"2\", item2)\n",
    "    print(\"Negate\", negate1 and negate2)\n",
    "            \n",
    "    return negate1 and negate2\n",
    "    "
   ]
  },
  {
   "cell_type": "code",
   "execution_count": 51,
   "id": "strategic-trademark",
   "metadata": {},
   "outputs": [
    {
     "name": "stdout",
     "output_type": "stream",
     "text": [
      "leftover words: \n",
      "set() set()\n",
      "hi\n",
      "Negate True True\n"
     ]
    },
    {
     "data": {
      "text/plain": [
       "'Yes. Harry Potter and the Prisoner of Azkaban is a 2004 fantasy film directed by Alfonso Cuarón and distributed by Warner Bros'"
      ]
     },
     "execution_count": 51,
     "metadata": {},
     "output_type": "execute_result"
    }
   ],
   "source": [
    "binary_answer(question2, output2)"
   ]
  },
  {
   "cell_type": "markdown",
   "id": "polar-impact",
   "metadata": {},
   "source": [
    "# HOW MUCH Answer"
   ]
  },
  {
   "cell_type": "code",
   "execution_count": 52,
   "id": "chicken-dynamics",
   "metadata": {},
   "outputs": [],
   "source": [
    "question_howmuch = \"How much did The Prisoner of Azkaban make worldwide?\""
   ]
  },
  {
   "cell_type": "code",
   "execution_count": 75,
   "id": "herbal-commission",
   "metadata": {},
   "outputs": [
    {
     "name": "stdout",
     "output_type": "stream",
     "text": [
      "The Prisoner of Azkaban\n",
      "0.4 Harry Potter and the Prisoner of Azkaban (film)\n",
      "The Prisoner of Azkaban\n",
      "0.4 Harry Potter and the Prisoner of Azkaban is a 2004 fantasy film directed by Alfonso Cuarón and distributed by Warner Bros\n",
      "The Prisoner of Azkaban\n",
      "0 The film stars Daniel Radcliffe as Harry Potter, alongside Rupert Grint and Emma Watson as Harry's best friends Ron Weasley and Hermione Granger\n",
      "The Prisoner of Azkaban\n",
      "0 The film was released on 31 May 2004 in the United Kingdom and on 4 June 2004 in North America, as the first Harry Potter film released into IMAX theatres and to be using IMAX Technology\n",
      "The Prisoner of Azkaban\n",
      "0.2 Prisoner of Azkaban grossed a total of $796.7 million worldwide, with its box office performance ranking as the lowest-grossing in the series\n",
      "The Prisoner of Azkaban\n",
      "0 PlotEdit\n",
      "The Prisoner of Azkaban\n",
      "0 Harry Potter, now aged 13, has been spending another dissatisfying summer at Privet Drive\n",
      "The Prisoner of Azkaban\n",
      "0 The trio are returning to Hogwarts for the school year on the Hogwarts Express when dementors suddenly board the train, searching for Sirius\n",
      "The Prisoner of Azkaban\n",
      "0 The Fat Lady's portrait, which guards the Gryffindor quarters, is found ruined and empty\n",
      "The Prisoner of Azkaban\n",
      "0 After Harry, Ron and Hermione witness Buckbeak's execution, Ron's pet rat Scabbers escapes from his pocket\n",
      "The Prisoner of Azkaban\n",
      "0 As the group departs, the full moon rises; Lupin transforms into a werewolf, and Sirius transforms into his dog form to fight him off\n",
      "The Prisoner of Azkaban\n",
      "0 CastEdit\n",
      "The Prisoner of Azkaban\n",
      "0 Daniel Radcliffe as Harry Potter\n",
      "The Prisoner of Azkaban\n",
      "0 Rupert Grint as Ron Weasley, one of Harry's best friends.\n",
      "The Prisoner of Azkaban\n",
      "0 Emma Watson as Hermione Granger, Harry's other best friend.\n",
      "The Prisoner of Azkaban\n",
      "0 Robbie Coltrane as Rubeus Hagrid, the Hogwarts gamekeeper and the new Care of Magical Creatures teacher.\n",
      "The Prisoner of Azkaban\n",
      "0 Michael Gambon as Albus Dumbledore, the Hogwarts Headmaster\n",
      "The Prisoner of Azkaban\n",
      "0 Richard Griffiths as Vernon Dursley, Harry's Muggle uncle.\n",
      "The Prisoner of Azkaban\n",
      "0.1 Gary Oldman as Sirius Black, an escapee from the Wizarding prison Azkaban and Harry's godfather\n",
      "The Prisoner of Azkaban\n",
      "0 Alan Rickman as Severus Snape, the Potions master at Hogwarts.\n",
      "The Prisoner of Azkaban\n",
      "0 Fiona Shaw as Petunia Dursley, Harry's Muggle aunt.\n",
      "The Prisoner of Azkaban\n",
      "0 Maggie Smith as Minerva McGonagall, the Transfiguration teacher at Hogwarts.\n",
      "The Prisoner of Azkaban\n",
      "0 Timothy Spall as Peter Pettigrew, a friend of Harry's parents said to have been killed by Sirius Black.\n",
      "The Prisoner of Azkaban\n",
      "0 David Thewlis as Professor Lupin, the new Defence Against the Dark Arts teacher at Hogwarts\n",
      "The Prisoner of Azkaban\n",
      "0 Emma Thompson as Sybill Trelawney, the Divination teacher at Hogwarts.\n",
      "The Prisoner of Azkaban\n",
      "0 Julie Walters as Molly Weasley, the Weasley matriarch and a mother figure to Harry.\n",
      "The Prisoner of Azkaban\n",
      "0 ProductionEdit\n",
      "The Prisoner of Azkaban\n",
      "0 DevelopmentEdit\n",
      "The Prisoner of Azkaban\n",
      "0.1 With Prisoner of Azkaban, production of the Harry Potter films switched to an eighteen-month cycle, which producer David Heyman explained was \"to give each [film] the time it required.\" Chris Columbus, the director of the previous two films, decided not to return and helm the third instalment as he \"hadn't seen [his] own kids for supper in the week for about two and a half years.\" Even so, he remained on as a producer alongside Heyman\n",
      "The Prisoner of Azkaban\n",
      "0 FilmingEdit\n",
      "The Prisoner of Azkaban\n",
      "0 Principal photography began on 24 February 2003, at Leavesden Film Studios, and concluded in October 2003.\n",
      "The Prisoner of Azkaban\n",
      "0.1 The third film was the first to extensively utilize real-life locations, as much of the first two films had been shot in the studio\n",
      "The Prisoner of Azkaban\n",
      "0 Hogwarts grew and expanded significantly with the third film\n",
      "The Prisoner of Azkaban\n",
      "0 The Honeydukes set in this film is a redress of the set of Flourish & Blotts that was seen in Chamber of Secrets, which, in turn, was a redress of the Ollivanders set from the first film.\n",
      "The Prisoner of Azkaban\n",
      "0.1 Rowling allowed Cuarón to make minor changes to the book, on the condition that he stuck to the book's spirit\n",
      "The Prisoner of Azkaban\n",
      "0 EffectsEdit\n",
      "The Prisoner of Azkaban\n",
      "0 Cuarón originally wanted to move away from CGI toward puppetry\n",
      "The Prisoner of Azkaban\n",
      "0 The Knight Bus segment when Harry is being taken to The Leaky Cauldron uses the technique known as bullet time, popularised in The Matrix series of films\n",
      "The Prisoner of Azkaban\n",
      "0 MusicEdit\n",
      "The Prisoner of Azkaban\n",
      "0 The Academy Award-nominated score was the third and final score in the series to be composed and conducted by John Williams\n",
      "The Prisoner of Azkaban\n",
      "0 Differences from the bookEdit\n",
      "The Prisoner of Azkaban\n",
      "0.2 Prisoner of Azkaban was, at the time of publication, the series' longest book\n",
      "The Prisoner of Azkaban\n",
      "0 On account of pace and time considerations, the film glosses over detailed descriptions of magical education\n",
      "The Prisoner of Azkaban\n",
      "0 In the film, where Harry and Hermione have travelled back in time and are hiding outside of Hagrid's hut, it is heavily implied that Dumbledore somehow knows that they are there, as he distracts the other characters at key moments or slows down the proceedings (such as by suggesting that he sign Buckbeak's execution order as well, then after Fudge agrees he says it will take some time as he has an extremely long name), which allows Harry and Hermione time to free Buckbeak unseen\n",
      "The Prisoner of Azkaban\n",
      "0 The embryonic romantic connection between Ron and Hermione is more prominent in the film than the book; in response to criticism of the first two films for sacrificing character development for mystery and adventure, the emotional development of all three lead characters is given more attention in the third film\n",
      "The Prisoner of Azkaban\n",
      "0 DistributionEdit\n",
      "The Prisoner of Azkaban\n",
      "0 MarketingEdit\n",
      "The Prisoner of Azkaban\n",
      "0.2 As with the series' previous instalments, Prisoner of Azkaban was a large merchandising opportunity\n",
      "The Prisoner of Azkaban\n",
      "0 Theatrical releaseEdit\n",
      "The Prisoner of Azkaban\n",
      "0.4 Harry Potter and the Prisoner of Azkaban held its New York premiere at Radio City Music Hall on 23 May 2004, followed by its London premiere at Leicester Square on 30 May 2004\n",
      "The Prisoner of Azkaban\n",
      "0 ReceptionEdit\n",
      "The Prisoner of Azkaban\n",
      "0 Box officeEdit\n",
      "The Prisoner of Azkaban\n",
      "0 Upon release, the film broke the record for biggest single day in the United Kingdom's box office history making £5.3 million on a Monday\n",
      "The Prisoner of Azkaban\n",
      "0.2 The Prisoner of Azkaban made a total of $796.7 million worldwide, which made it 2004's second-highest-grossing film worldwide behind Shrek 2\n",
      "The Prisoner of Azkaban\n",
      "0 Critical receptionEdit\n",
      "The Prisoner of Azkaban\n",
      "0.4 Prisoner of Azkaban earned notable critical acclaim, garnering a 91% \"Certified Fresh\" approval rating at the review aggregator Rotten Tomatoes with a consensus stating,\"Under the assured direction of Alfonso Cuaron, Harry Potter and the Prisoner of Azkaban triumphantly strikes a delicate balance between technical wizardry and complex storytelling.\" The film also received a score of 82 out of 100 at Metacritic, which signifies \"universal acclaim.\"\n",
      "The Prisoner of Azkaban\n",
      "0 Mick LaSalle of the San Francisco Chronicle lauded the film's more mature tone and said it was \"darker, more complex, rooted in character.\" The Hollywood Reporter called the film \"a deeper, darker, visually arresting and more emotionally satisfying adaptation of the J.K\n",
      "The Prisoner of Azkaban\n",
      "0 AccoladesEdit\n",
      "The Prisoner of Azkaban\n",
      "0.4 Harry Potter and the Prisoner of Azkaban was nominated for Best Original Music Score (John Williams) and Best Visual Effects at the 77th Academy Awards held in 2005\n",
      "The Prisoner of Azkaban\n",
      "0 The film also ranks at No\n",
      "The Prisoner of Azkaban\n",
      "0 American Film Institute recognition\n",
      "The Prisoner of Azkaban\n",
      "0 AFI's 100 Years...100 Movies – Nominated\n",
      "The Prisoner of Azkaban\n",
      "0 AFI's 10 Top 10 – Nominated Fantasy Film\n",
      "The Prisoner of Azkaban\n",
      "0 See alsoEdit\n",
      "The Prisoner of Azkaban\n",
      "0 List of films featuring time loops\n",
      "The Prisoner of Azkaban\n",
      "0 ReferencesEdit\n",
      "The Prisoner of Azkaban\n",
      "0 External linksEdit\n",
      "The Prisoner of Azkaban\n",
      "0 Official Warner Bros\n",
      "The Prisoner of Azkaban\n",
      "0.4 Harry Potter and the Prisoner of Azkaban at the Internet Movie Database\n",
      "The Prisoner of Azkaban\n",
      "0.4 Harry Potter and the Prisoner of Azkaban at AllMovie\n",
      "The Prisoner of Azkaban\n",
      "0.4 Harry Potter and the Prisoner of Azkaban at Rotten Tomatoes\n",
      "The Prisoner of Azkaban\n",
      "0.4 Harry Potter and the Prisoner of Azkaban at Box Office Mojo\n",
      "The Prisoner of Azkaban\n",
      "0.4 Harry Potter and the Prisoner of Azkaban at Metacritic\n"
     ]
    },
    {
     "data": {
      "text/plain": [
       "[(\"The Prisoner of Azkaban made a total of $796.7 million worldwide, which made it 2004's second-highest-grossing film worldwide behind Shrek 2\",\n",
       "  array([[1.5841146]], dtype=float32)),\n",
       " ('Prisoner of Azkaban grossed a total of $796.7 million worldwide, with its box office performance ranking as the lowest-grossing in the series',\n",
       "  array([[1.5567474]], dtype=float32)),\n",
       " (\"Upon release, the film broke the record for biggest single day in the United Kingdom's box office history making £5.3 million on a Monday\",\n",
       "  array([[1.3981736]], dtype=float32)),\n",
       " ('Harry Potter and the Prisoner of Azkaban at AllMovie',\n",
       "  array([[0.9762496]], dtype=float32)),\n",
       " ('Harry Potter and the Prisoner of Azkaban at Box Office Mojo',\n",
       "  array([[0.9610052]], dtype=float32))]"
      ]
     },
     "execution_count": 75,
     "metadata": {},
     "output_type": "execute_result"
    }
   ],
   "source": [
    "find_best_k_sentence(question_howmuch, text_hp_emb, 5)"
   ]
  },
  {
   "cell_type": "code",
   "execution_count": 64,
   "id": "requested-insured",
   "metadata": {},
   "outputs": [
    {
     "data": {
      "text/plain": [
       "{'The Prisoner of Azkaban': 'PERSON'}"
      ]
     },
     "execution_count": 64,
     "metadata": {},
     "output_type": "execute_result"
    }
   ],
   "source": [
    "ner_tag_sentence(question_howmuch)"
   ]
  },
  {
   "cell_type": "code",
   "execution_count": 68,
   "id": "breeding-disclosure",
   "metadata": {},
   "outputs": [],
   "source": [
    "q = \"The Prisoner of Azkaban made a total of $796.7 million worldwide, which made it 2004's second-highest-grossing film worldwide behind Shrek 2\"\n",
    "\n",
    "def how_much_answer(question, text_emb):\n",
    "    k = 1\n",
    "    best_k_sentence = find_best_k_sentence(question_howmuch, text_emb, k)\n",
    "    top_sentence = best_k_sentence[0]\n",
    "    \n"
   ]
  },
  {
   "cell_type": "code",
   "execution_count": 69,
   "id": "weekly-encounter",
   "metadata": {},
   "outputs": [
    {
     "data": {
      "text/plain": [
       "{'$796.7 million': 'MONEY', '2004': 'DATE', 'second': 'ORDINAL'}"
      ]
     },
     "execution_count": 69,
     "metadata": {},
     "output_type": "execute_result"
    }
   ],
   "source": [
    "ner_tag_sentence(q)"
   ]
  },
  {
   "cell_type": "code",
   "execution_count": null,
   "id": "dominant-gender",
   "metadata": {},
   "outputs": [],
   "source": []
  }
 ],
 "metadata": {
  "kernelspec": {
   "display_name": "Python [conda env:py36] *",
   "language": "python",
   "name": "conda-env-py36-py"
  },
  "language_info": {
   "codemirror_mode": {
    "name": "ipython",
    "version": 3
   },
   "file_extension": ".py",
   "mimetype": "text/x-python",
   "name": "python",
   "nbconvert_exporter": "python",
   "pygments_lexer": "ipython3",
   "version": "3.6.12"
  }
 },
 "nbformat": 4,
 "nbformat_minor": 5
}
